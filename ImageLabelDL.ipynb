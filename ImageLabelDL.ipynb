{
  "nbformat": 4,
  "nbformat_minor": 0,
  "metadata": {
    "colab": {
      "name": "ImageLabelingDeepLearningCNN",
      "provenance": []
    },
    "kernelspec": {
      "name": "python3",
      "display_name": "Python 3"
    }
  },
  "cells": [
    {
      "cell_type": "code",
      "metadata": {
        "id": "ybd2tnL8NFAc",
        "colab_type": "code",
        "colab": {
          "base_uri": "https://localhost:8080/",
          "height": 34
        },
        "outputId": "a57e53e1-4a68-4e70-ce33-0f059da7f47a"
      },
      "source": [
        "from google.colab import drive\n",
        "drive.mount('/content/gdrive')"
      ],
      "execution_count": 213,
      "outputs": [
        {
          "output_type": "stream",
          "text": [
            "Drive already mounted at /content/gdrive; to attempt to forcibly remount, call drive.mount(\"/content/gdrive\", force_remount=True).\n"
          ],
          "name": "stdout"
        }
      ]
    },
    {
      "cell_type": "code",
      "metadata": {
        "id": "1r76h4yFNMem",
        "colab_type": "code",
        "colab": {}
      },
      "source": [
        "#ls"
      ],
      "execution_count": 0,
      "outputs": []
    },
    {
      "cell_type": "code",
      "metadata": {
        "id": "FLyAdKlTNlMS",
        "colab_type": "code",
        "outputId": "66dcf525-dc2e-42c5-cff9-76cb28d33a64",
        "colab": {
          "base_uri": "https://localhost:8080/",
          "height": 52
        }
      },
      "source": [
        "cd gdrive"
      ],
      "execution_count": 240,
      "outputs": [
        {
          "output_type": "stream",
          "text": [
            "[Errno 2] No such file or directory: 'gdrive'\n",
            "/content/gdrive/My Drive\n"
          ],
          "name": "stdout"
        }
      ]
    },
    {
      "cell_type": "code",
      "metadata": {
        "id": "krWyKz0MNnb1",
        "colab_type": "code",
        "outputId": "a14dd1c6-8de5-44a0-8a62-0c00a515af65",
        "colab": {
          "base_uri": "https://localhost:8080/",
          "height": 955
        }
      },
      "source": [
        "ls"
      ],
      "execution_count": 241,
      "outputs": [
        {
          "output_type": "stream",
          "text": [
            " 2.jpg\n",
            " airquality.csv\n",
            " \u001b[0m\u001b[01;34mcamvid\u001b[0m/\n",
            " \u001b[01;34mClassroom\u001b[0m/\n",
            "\u001b[01;34m'Colab Notebooks'\u001b[0m/\n",
            " convert-jpg-to-pdf.net_2019-05-06_16-26-33.pdf\n",
            " credit.csv\n",
            " credit_suisse_resume.odt\n",
            " \u001b[01;34mdataset\u001b[0m/\n",
            " \u001b[01;34mdataset1\u001b[0m/\n",
            " dataset1.zip\n",
            " \u001b[01;34mdemo\u001b[0m/\n",
            " Fake.csv\n",
            " fake.ipynb\n",
            " fb.csv\n",
            " football.mp4\n",
            "'Gmail - Booking Confirmation on IRCTC, Train- 11077, 09-Nov-2017, SL, PUNE - NDLS.pdf'\n",
            "'HARISHTOMAR_InternshalaResume - HARISH TOMAR.pdf'\n",
            " HARISHTOMAR_InternshalaResume.pdf\n",
            " \u001b[01;34mHE_Challenge_data\u001b[0m/\n",
            " homeprices.csv\n",
            " house.zip\n",
            " \u001b[01;34mimagelabeling\u001b[0m/\n",
            " LOR.pdf\n",
            " \u001b[01;34mOSVOS-master\u001b[0m/\n",
            " output.png\n",
            " README.md\n",
            "'Resume(F) (1).pdf'\n",
            "'Resume(F).pdf'\n",
            "'resume(personal).docx'\n",
            " segmentation.ipynb\n",
            "'sp (1).zip'\n",
            " sp.zip\n",
            " summer_internship_evaluation_schedule.xlsx\n",
            " True.csv\n",
            " Untitled0.ipynb\n",
            " Untitled1.ipynb\n",
            " Untitled2.ipynb\n",
            " Untitled4.ipynb\n",
            "'Untitled Diagram (1).drawio'\n",
            "'Untitled Diagram.drawio'\n",
            " vgg16.ckpt_config.json\n",
            " vgg16_weights_tf_dim_ordering_tf_kernels_notop.h5\n",
            " vgg17.ckpt.0\n",
            " vgg17.ckpt.1\n",
            " vgg17.ckpt_config.json\n",
            " vgg_unet_1.0\n",
            " vgg_unet_1.1\n",
            " vgg_unet_1.2\n",
            " vgg_unet_1.3\n",
            " vgg_unet_1.4\n",
            " vgg_unet_1_config.json\n",
            " video.zip\n",
            "'wpr 2 (1).docx'\n"
          ],
          "name": "stdout"
        }
      ]
    },
    {
      "cell_type": "code",
      "metadata": {
        "id": "vWlnxkRWNoX9",
        "colab_type": "code",
        "outputId": "fc5b7cfc-fab0-4494-aad2-ad3ec860ba50",
        "colab": {
          "base_uri": "https://localhost:8080/",
          "height": 52
        }
      },
      "source": [
        "cd My Drive"
      ],
      "execution_count": 242,
      "outputs": [
        {
          "output_type": "stream",
          "text": [
            "[Errno 2] No such file or directory: 'My Drive'\n",
            "/content/gdrive/My Drive\n"
          ],
          "name": "stdout"
        }
      ]
    },
    {
      "cell_type": "code",
      "metadata": {
        "id": "Vqrp2YGmNsAc",
        "colab_type": "code",
        "outputId": "158bc426-bcc6-42e6-ae36-115fb9352455",
        "colab": {
          "base_uri": "https://localhost:8080/",
          "height": 955
        }
      },
      "source": [
        "ls"
      ],
      "execution_count": 243,
      "outputs": [
        {
          "output_type": "stream",
          "text": [
            " 2.jpg\n",
            " airquality.csv\n",
            " \u001b[0m\u001b[01;34mcamvid\u001b[0m/\n",
            " \u001b[01;34mClassroom\u001b[0m/\n",
            "\u001b[01;34m'Colab Notebooks'\u001b[0m/\n",
            " convert-jpg-to-pdf.net_2019-05-06_16-26-33.pdf\n",
            " credit.csv\n",
            " credit_suisse_resume.odt\n",
            " \u001b[01;34mdataset\u001b[0m/\n",
            " \u001b[01;34mdataset1\u001b[0m/\n",
            " dataset1.zip\n",
            " \u001b[01;34mdemo\u001b[0m/\n",
            " Fake.csv\n",
            " fake.ipynb\n",
            " fb.csv\n",
            " football.mp4\n",
            "'Gmail - Booking Confirmation on IRCTC, Train- 11077, 09-Nov-2017, SL, PUNE - NDLS.pdf'\n",
            "'HARISHTOMAR_InternshalaResume - HARISH TOMAR.pdf'\n",
            " HARISHTOMAR_InternshalaResume.pdf\n",
            " \u001b[01;34mHE_Challenge_data\u001b[0m/\n",
            " homeprices.csv\n",
            " house.zip\n",
            " \u001b[01;34mimagelabeling\u001b[0m/\n",
            " LOR.pdf\n",
            " \u001b[01;34mOSVOS-master\u001b[0m/\n",
            " output.png\n",
            " README.md\n",
            "'Resume(F) (1).pdf'\n",
            "'Resume(F).pdf'\n",
            "'resume(personal).docx'\n",
            " segmentation.ipynb\n",
            "'sp (1).zip'\n",
            " sp.zip\n",
            " summer_internship_evaluation_schedule.xlsx\n",
            " True.csv\n",
            " Untitled0.ipynb\n",
            " Untitled1.ipynb\n",
            " Untitled2.ipynb\n",
            " Untitled4.ipynb\n",
            "'Untitled Diagram (1).drawio'\n",
            "'Untitled Diagram.drawio'\n",
            " vgg16.ckpt_config.json\n",
            " vgg16_weights_tf_dim_ordering_tf_kernels_notop.h5\n",
            " vgg17.ckpt.0\n",
            " vgg17.ckpt.1\n",
            " vgg17.ckpt_config.json\n",
            " vgg_unet_1.0\n",
            " vgg_unet_1.1\n",
            " vgg_unet_1.2\n",
            " vgg_unet_1.3\n",
            " vgg_unet_1.4\n",
            " vgg_unet_1_config.json\n",
            " video.zip\n",
            "'wpr 2 (1).docx'\n"
          ],
          "name": "stdout"
        }
      ]
    },
    {
      "cell_type": "code",
      "metadata": {
        "id": "tyjqWFJBNs4r",
        "colab_type": "code",
        "colab": {}
      },
      "source": [
        "import pandas as pd"
      ],
      "execution_count": 0,
      "outputs": []
    },
    {
      "cell_type": "code",
      "metadata": {
        "id": "aGtF2P4wN128",
        "colab_type": "code",
        "colab": {}
      },
      "source": [
        "df = pd.read_csv('imagelabeling/dataset/train.csv')"
      ],
      "execution_count": 0,
      "outputs": []
    },
    {
      "cell_type": "code",
      "metadata": {
        "id": "Za0V5LL4OOsH",
        "colab_type": "code",
        "outputId": "f0a94e38-6269-4986-c6ca-0e5417fce5b9",
        "colab": {
          "base_uri": "https://localhost:8080/",
          "height": 175
        }
      },
      "source": [
        "df.head(4)"
      ],
      "execution_count": 415,
      "outputs": [
        {
          "output_type": "execute_result",
          "data": {
            "text/html": [
              "<div>\n",
              "<style scoped>\n",
              "    .dataframe tbody tr th:only-of-type {\n",
              "        vertical-align: middle;\n",
              "    }\n",
              "\n",
              "    .dataframe tbody tr th {\n",
              "        vertical-align: top;\n",
              "    }\n",
              "\n",
              "    .dataframe thead th {\n",
              "        text-align: right;\n",
              "    }\n",
              "</style>\n",
              "<table border=\"1\" class=\"dataframe\">\n",
              "  <thead>\n",
              "    <tr style=\"text-align: right;\">\n",
              "      <th></th>\n",
              "      <th>Image</th>\n",
              "      <th>Class</th>\n",
              "    </tr>\n",
              "  </thead>\n",
              "  <tbody>\n",
              "    <tr>\n",
              "      <th>0</th>\n",
              "      <td>image7042.jpg</td>\n",
              "      <td>Food</td>\n",
              "    </tr>\n",
              "    <tr>\n",
              "      <th>1</th>\n",
              "      <td>image3327.jpg</td>\n",
              "      <td>misc</td>\n",
              "    </tr>\n",
              "    <tr>\n",
              "      <th>2</th>\n",
              "      <td>image10335.jpg</td>\n",
              "      <td>Attire</td>\n",
              "    </tr>\n",
              "    <tr>\n",
              "      <th>3</th>\n",
              "      <td>image8019.jpg</td>\n",
              "      <td>Food</td>\n",
              "    </tr>\n",
              "  </tbody>\n",
              "</table>\n",
              "</div>"
            ],
            "text/plain": [
              "            Image   Class\n",
              "0   image7042.jpg    Food\n",
              "1   image3327.jpg    misc\n",
              "2  image10335.jpg  Attire\n",
              "3   image8019.jpg    Food"
            ]
          },
          "metadata": {
            "tags": []
          },
          "execution_count": 415
        }
      ]
    },
    {
      "cell_type": "code",
      "metadata": {
        "id": "B5E7f0CtOQiM",
        "colab_type": "code",
        "colab": {}
      },
      "source": [
        "from keras.preprocessing import image"
      ],
      "execution_count": 0,
      "outputs": []
    },
    {
      "cell_type": "code",
      "metadata": {
        "id": "Qe5jRtEdOWWk",
        "colab_type": "code",
        "colab": {}
      },
      "source": [
        "from tqdm import tqdm"
      ],
      "execution_count": 0,
      "outputs": []
    },
    {
      "cell_type": "code",
      "metadata": {
        "id": "VemmvMqPOaU0",
        "colab_type": "code",
        "outputId": "8643758d-a3dc-47e2-b77d-94944d65119f",
        "colab": {
          "base_uri": "https://localhost:8080/",
          "height": 1000
        }
      },
      "source": [
        "import numpy as np\n",
        "train_image = []\n",
        "for i in tqdm(range(df.shape[0])):\n",
        "  img = image.load_img('imagelabeling/dataset/Train Images/' + df['Image'][i] , target_size = (28,28,1),grayscale = True)\n",
        "  img = image.img_to_array(img)\n",
        "  img = img/255\n",
        "  train_image.append(img)\n",
        "X = np.array(train_image)"
      ],
      "execution_count": 418,
      "outputs": [
        {
          "output_type": "stream",
          "text": [
            "\n",
            "\n",
            "  0%|          | 0/5983 [00:00<?, ?it/s]\u001b[A\u001b[A/usr/local/lib/python3.6/dist-packages/keras_preprocessing/image/utils.py:104: UserWarning: grayscale is deprecated. Please use color_mode = \"grayscale\"\n",
            "  warnings.warn('grayscale is deprecated. Please use '\n",
            "\n",
            "\n",
            "  1%|          | 51/5983 [00:00<00:11, 507.70it/s]\u001b[A\u001b[A\n",
            "\n",
            "  2%|▏         | 104/5983 [00:00<00:11, 512.86it/s]\u001b[A\u001b[A\n",
            "\n",
            "  3%|▎         | 156/5983 [00:00<00:11, 513.55it/s]\u001b[A\u001b[A\n",
            "\n",
            "  4%|▎         | 211/5983 [00:00<00:11, 521.81it/s]\u001b[A\u001b[A\n",
            "\n",
            "  4%|▍         | 265/5983 [00:00<00:10, 524.61it/s]\u001b[A\u001b[A\n",
            "\n",
            "  5%|▌         | 316/5983 [00:00<00:10, 518.17it/s]\u001b[A\u001b[A\n",
            "\n",
            "  6%|▌         | 369/5983 [00:00<00:11, 509.23it/s]\u001b[A\u001b[A\n",
            "\n",
            "  7%|▋         | 420/5983 [00:00<00:10, 506.97it/s]\u001b[A\u001b[A\n",
            "\n",
            "  8%|▊         | 472/5983 [00:00<00:10, 509.52it/s]\u001b[A\u001b[A\n",
            "\n",
            "  9%|▊         | 521/5983 [00:01<00:10, 498.61it/s]\u001b[A\u001b[A\n",
            "\n",
            " 10%|▉         | 572/5983 [00:01<00:10, 501.36it/s]\u001b[A\u001b[A\n",
            "\n",
            " 10%|█         | 622/5983 [00:01<00:10, 497.15it/s]\u001b[A\u001b[A\n",
            "\n",
            " 11%|█         | 673/5983 [00:01<00:10, 500.83it/s]\u001b[A\u001b[A\n",
            "\n",
            " 12%|█▏        | 726/5983 [00:01<00:10, 506.43it/s]\u001b[A\u001b[A\n",
            "\n",
            " 13%|█▎        | 777/5983 [00:01<00:10, 503.56it/s]\u001b[A\u001b[A\n",
            "\n",
            " 14%|█▍        | 829/5983 [00:01<00:10, 507.40it/s]\u001b[A\u001b[A\n",
            "\n",
            " 15%|█▍        | 880/5983 [00:01<00:10, 494.94it/s]\u001b[A\u001b[A\n",
            "\n",
            " 16%|█▌        | 932/5983 [00:01<00:10, 500.48it/s]\u001b[A\u001b[A\n",
            "\n",
            " 16%|█▋        | 983/5983 [00:01<00:10, 486.17it/s]\u001b[A\u001b[A\n",
            "\n",
            " 17%|█▋        | 1033/5983 [00:02<00:10, 488.90it/s]\u001b[A\u001b[A\n",
            "\n",
            " 18%|█▊        | 1086/5983 [00:02<00:09, 498.60it/s]\u001b[A\u001b[A\n",
            "\n",
            " 19%|█▉        | 1138/5983 [00:02<00:09, 504.68it/s]\u001b[A\u001b[A\n",
            "\n",
            " 20%|█▉        | 1189/5983 [00:02<00:09, 496.95it/s]\u001b[A\u001b[A\n",
            "\n",
            " 21%|██        | 1242/5983 [00:02<00:09, 505.50it/s]\u001b[A\u001b[A\n",
            "\n",
            " 22%|██▏       | 1294/5983 [00:02<00:09, 507.15it/s]\u001b[A\u001b[A\n",
            "\n",
            " 23%|██▎       | 1347/5983 [00:02<00:09, 511.43it/s]\u001b[A\u001b[A\n",
            "\n",
            " 23%|██▎       | 1399/5983 [00:02<00:09, 508.19it/s]\u001b[A\u001b[A\n",
            "\n",
            " 24%|██▍       | 1451/5983 [00:02<00:08, 511.42it/s]\u001b[A\u001b[A\n",
            "\n",
            " 25%|██▌       | 1503/5983 [00:02<00:08, 505.23it/s]\u001b[A\u001b[A\n",
            "\n",
            " 26%|██▌       | 1554/5983 [00:03<00:09, 470.32it/s]\u001b[A\u001b[A\n",
            "\n",
            " 27%|██▋       | 1606/5983 [00:03<00:09, 483.01it/s]\u001b[A\u001b[A\n",
            "\n",
            " 28%|██▊       | 1659/5983 [00:03<00:08, 494.31it/s]\u001b[A\u001b[A\n",
            "\n",
            " 29%|██▊       | 1711/5983 [00:03<00:08, 498.84it/s]\u001b[A\u001b[A\n",
            "\n",
            " 29%|██▉       | 1762/5983 [00:03<00:08, 499.44it/s]\u001b[A\u001b[A\n",
            "\n",
            " 30%|███       | 1813/5983 [00:03<00:08, 497.82it/s]\u001b[A\u001b[A\n",
            "\n",
            " 31%|███       | 1865/5983 [00:03<00:08, 502.98it/s]\u001b[A\u001b[A\n",
            "\n",
            " 32%|███▏      | 1916/5983 [00:03<00:08, 491.74it/s]\u001b[A\u001b[A\n",
            "\n",
            " 33%|███▎      | 1969/5983 [00:03<00:08, 500.29it/s]\u001b[A\u001b[A\n",
            "\n",
            " 34%|███▍      | 2023/5983 [00:04<00:07, 510.52it/s]\u001b[A\u001b[A\n",
            "\n",
            " 35%|███▍      | 2076/5983 [00:04<00:07, 514.85it/s]\u001b[A\u001b[A\n",
            "\n",
            " 36%|███▌      | 2128/5983 [00:04<00:07, 509.07it/s]\u001b[A\u001b[A\n",
            "\n",
            " 36%|███▋      | 2182/5983 [00:04<00:07, 515.43it/s]\u001b[A\u001b[A\n",
            "\n",
            " 37%|███▋      | 2235/5983 [00:04<00:07, 519.08it/s]\u001b[A\u001b[A\n",
            "\n",
            " 38%|███▊      | 2289/5983 [00:04<00:07, 525.04it/s]\u001b[A\u001b[A\n",
            "\n",
            " 39%|███▉      | 2342/5983 [00:04<00:06, 524.35it/s]\u001b[A\u001b[A\n",
            "\n",
            " 40%|████      | 2396/5983 [00:04<00:06, 527.79it/s]\u001b[A\u001b[A\n",
            "\n",
            " 41%|████      | 2450/5983 [00:04<00:06, 530.44it/s]\u001b[A\u001b[A\n",
            "\n",
            " 42%|████▏     | 2504/5983 [00:04<00:06, 531.85it/s]\u001b[A\u001b[A\n",
            "\n",
            " 43%|████▎     | 2558/5983 [00:05<00:06, 524.15it/s]\u001b[A\u001b[A\n",
            "\n",
            " 44%|████▎     | 2611/5983 [00:05<00:06, 512.22it/s]\u001b[A\u001b[A\n",
            "\n",
            " 45%|████▍     | 2664/5983 [00:05<00:06, 516.40it/s]\u001b[A\u001b[A\n",
            "\n",
            " 45%|████▌     | 2717/5983 [00:05<00:06, 519.48it/s]\u001b[A\u001b[A\n",
            "\n",
            " 46%|████▋     | 2770/5983 [00:05<00:06, 514.87it/s]\u001b[A\u001b[A\n",
            "\n",
            " 47%|████▋     | 2822/5983 [00:05<00:06, 510.55it/s]\u001b[A\u001b[A\n",
            "\n",
            " 48%|████▊     | 2874/5983 [00:05<00:06, 512.29it/s]\u001b[A\u001b[A\n",
            "\n",
            " 49%|████▉     | 2928/5983 [00:05<00:05, 518.60it/s]\u001b[A\u001b[A\n",
            "\n",
            " 50%|████▉     | 2980/5983 [00:05<00:05, 514.31it/s]\u001b[A\u001b[A\n",
            "\n",
            " 51%|█████     | 3032/5983 [00:05<00:05, 511.95it/s]\u001b[A\u001b[A\n",
            "\n",
            " 52%|█████▏    | 3084/5983 [00:06<00:05, 509.92it/s]\u001b[A\u001b[A\n",
            "\n",
            " 52%|█████▏    | 3137/5983 [00:06<00:05, 514.25it/s]\u001b[A\u001b[A\n",
            "\n",
            " 53%|█████▎    | 3189/5983 [00:06<00:05, 515.46it/s]\u001b[A\u001b[A\n",
            "\n",
            " 54%|█████▍    | 3241/5983 [00:06<00:05, 515.19it/s]\u001b[A\u001b[A\n",
            "\n",
            " 55%|█████▌    | 3293/5983 [00:06<00:05, 503.58it/s]\u001b[A\u001b[A\n",
            "\n",
            " 56%|█████▌    | 3344/5983 [00:06<00:05, 498.79it/s]\u001b[A\u001b[A\n",
            "\n",
            " 57%|█████▋    | 3397/5983 [00:06<00:05, 506.33it/s]\u001b[A\u001b[A\n",
            "\n",
            " 58%|█████▊    | 3449/5983 [00:06<00:04, 509.32it/s]\u001b[A\u001b[A\n",
            "\n",
            " 59%|█████▊    | 3503/5983 [00:06<00:04, 516.30it/s]\u001b[A\u001b[A\n",
            "\n",
            " 59%|█████▉    | 3557/5983 [00:06<00:04, 521.30it/s]\u001b[A\u001b[A\n",
            "\n",
            " 60%|██████    | 3610/5983 [00:07<00:04, 508.01it/s]\u001b[A\u001b[A\n",
            "\n",
            " 61%|██████    | 3661/5983 [00:07<00:04, 508.46it/s]\u001b[A\u001b[A\n",
            "\n",
            " 62%|██████▏   | 3713/5983 [00:07<00:04, 511.02it/s]\u001b[A\u001b[A\n",
            "\n",
            " 63%|██████▎   | 3766/5983 [00:07<00:04, 515.33it/s]\u001b[A\u001b[A\n",
            "\n",
            " 64%|██████▍   | 3820/5983 [00:07<00:04, 519.09it/s]\u001b[A\u001b[A\n",
            "\n",
            " 65%|██████▍   | 3874/5983 [00:07<00:04, 522.36it/s]\u001b[A\u001b[A\n",
            "\n",
            " 66%|██████▌   | 3927/5983 [00:07<00:03, 519.82it/s]\u001b[A\u001b[A\n",
            "\n",
            " 67%|██████▋   | 3981/5983 [00:07<00:03, 524.22it/s]\u001b[A\u001b[A\n",
            "\n",
            " 67%|██████▋   | 4034/5983 [00:07<00:03, 525.83it/s]\u001b[A\u001b[A\n",
            "\n",
            " 68%|██████▊   | 4087/5983 [00:08<00:03, 524.45it/s]\u001b[A\u001b[A\n",
            "\n",
            " 69%|██████▉   | 4140/5983 [00:08<00:03, 507.51it/s]\u001b[A\u001b[A\n",
            "\n",
            " 70%|███████   | 4193/5983 [00:08<00:03, 513.11it/s]\u001b[A\u001b[A\n",
            "\n",
            " 71%|███████   | 4247/5983 [00:08<00:03, 519.05it/s]\u001b[A\u001b[A\n",
            "\n",
            " 72%|███████▏  | 4302/5983 [00:08<00:03, 527.12it/s]\u001b[A\u001b[A\n",
            "\n",
            " 73%|███████▎  | 4355/5983 [00:08<00:03, 515.81it/s]\u001b[A\u001b[A\n",
            "\n",
            " 74%|███████▎  | 4407/5983 [00:08<00:03, 512.75it/s]\u001b[A\u001b[A\n",
            "\n",
            " 75%|███████▍  | 4459/5983 [00:08<00:03, 502.51it/s]\u001b[A\u001b[A\n",
            "\n",
            " 75%|███████▌  | 4510/5983 [00:08<00:03, 488.26it/s]\u001b[A\u001b[A\n",
            "\n",
            " 76%|███████▌  | 4559/5983 [00:08<00:03, 471.12it/s]\u001b[A\u001b[A\n",
            "\n",
            " 77%|███████▋  | 4607/5983 [00:09<00:02, 463.80it/s]\u001b[A\u001b[A\n",
            "\n",
            " 78%|███████▊  | 4654/5983 [00:09<00:02, 454.02it/s]\u001b[A\u001b[A\n",
            "\n",
            " 79%|███████▊  | 4700/5983 [00:09<00:02, 447.04it/s]\u001b[A\u001b[A\n",
            "\n",
            " 79%|███████▉  | 4747/5983 [00:09<00:02, 451.78it/s]\u001b[A\u001b[A\n",
            "\n",
            " 80%|████████  | 4793/5983 [00:09<00:02, 444.73it/s]\u001b[A\u001b[A\n",
            "\n",
            " 81%|████████  | 4838/5983 [00:09<00:02, 442.07it/s]\u001b[A\u001b[A\n",
            "\n",
            " 82%|████████▏ | 4884/5983 [00:09<00:02, 445.57it/s]\u001b[A\u001b[A\n",
            "\n",
            " 82%|████████▏ | 4930/5983 [00:09<00:02, 448.84it/s]\u001b[A\u001b[A\n",
            "\n",
            " 83%|████████▎ | 4975/5983 [00:09<00:02, 447.58it/s]\u001b[A\u001b[A\n",
            "\n",
            " 84%|████████▍ | 5020/5983 [00:10<00:02, 444.92it/s]\u001b[A\u001b[A\n",
            "\n",
            " 85%|████████▍ | 5065/5983 [00:10<00:02, 442.68it/s]\u001b[A\u001b[A\n",
            "\n",
            " 85%|████████▌ | 5110/5983 [00:10<00:02, 431.75it/s]\u001b[A\u001b[A\n",
            "\n",
            " 86%|████████▌ | 5155/5983 [00:10<00:01, 435.48it/s]\u001b[A\u001b[A\n",
            "\n",
            " 87%|████████▋ | 5199/5983 [00:10<00:01, 436.27it/s]\u001b[A\u001b[A\n",
            "\n",
            " 88%|████████▊ | 5243/5983 [00:10<00:01, 432.60it/s]\u001b[A\u001b[A\n",
            "\n",
            " 88%|████████▊ | 5289/5983 [00:10<00:01, 440.21it/s]\u001b[A\u001b[A\n",
            "\n",
            " 89%|████████▉ | 5334/5983 [00:10<00:01, 435.30it/s]\u001b[A\u001b[A\n",
            "\n",
            " 90%|████████▉ | 5378/5983 [00:10<00:01, 431.24it/s]\u001b[A\u001b[A\n",
            "\n",
            " 91%|█████████ | 5423/5983 [00:10<00:01, 435.58it/s]\u001b[A\u001b[A\n",
            "\n",
            " 91%|█████████▏| 5468/5983 [00:11<00:01, 439.64it/s]\u001b[A\u001b[A\n",
            "\n",
            " 92%|█████████▏| 5513/5983 [00:11<00:01, 434.04it/s]\u001b[A\u001b[A\n",
            "\n",
            " 93%|█████████▎| 5557/5983 [00:11<00:00, 435.34it/s]\u001b[A\u001b[A\n",
            "\n",
            " 94%|█████████▎| 5603/5983 [00:11<00:00, 440.35it/s]\u001b[A\u001b[A\n",
            "\n",
            " 94%|█████████▍| 5648/5983 [00:11<00:00, 440.59it/s]\u001b[A\u001b[A\n",
            "\n",
            " 95%|█████████▌| 5693/5983 [00:11<00:00, 440.44it/s]\u001b[A\u001b[A\n",
            "\n",
            " 96%|█████████▌| 5738/5983 [00:11<00:00, 437.44it/s]\u001b[A\u001b[A\n",
            "\n",
            " 97%|█████████▋| 5782/5983 [00:11<00:00, 435.55it/s]\u001b[A\u001b[A\n",
            "\n",
            " 97%|█████████▋| 5826/5983 [00:11<00:00, 435.94it/s]\u001b[A\u001b[A\n",
            "\n",
            " 98%|█████████▊| 5870/5983 [00:11<00:00, 431.60it/s]\u001b[A\u001b[A\n",
            "\n",
            " 99%|█████████▉| 5914/5983 [00:12<00:00, 426.69it/s]\u001b[A\u001b[A\n",
            "\n",
            "100%|██████████| 5983/5983 [00:12<00:00, 489.13it/s]\n"
          ],
          "name": "stderr"
        }
      ]
    },
    {
      "cell_type": "code",
      "metadata": {
        "id": "yIVdOMICQDSi",
        "colab_type": "code",
        "outputId": "b5c7e0b1-26c9-4b43-d0c0-c1b0590e11aa",
        "colab": {
          "base_uri": "https://localhost:8080/",
          "height": 69
        }
      },
      "source": [
        "df.dtypes"
      ],
      "execution_count": 419,
      "outputs": [
        {
          "output_type": "execute_result",
          "data": {
            "text/plain": [
              "Image    object\n",
              "Class    object\n",
              "dtype: object"
            ]
          },
          "metadata": {
            "tags": []
          },
          "execution_count": 419
        }
      ]
    },
    {
      "cell_type": "code",
      "metadata": {
        "id": "snAtKmm7S2rE",
        "colab_type": "code",
        "colab": {}
      },
      "source": [
        ""
      ],
      "execution_count": 0,
      "outputs": []
    },
    {
      "cell_type": "code",
      "metadata": {
        "id": "LHiUhzL8e9PT",
        "colab_type": "code",
        "colab": {}
      },
      "source": [
        "res = X.tolist()\n",
        "#res"
      ],
      "execution_count": 0,
      "outputs": []
    },
    {
      "cell_type": "code",
      "metadata": {
        "id": "0NLLajDliPkh",
        "colab_type": "code",
        "colab": {}
      },
      "source": [
        "df['Images'] = res"
      ],
      "execution_count": 0,
      "outputs": []
    },
    {
      "cell_type": "code",
      "metadata": {
        "id": "fZzfrel5jElJ",
        "colab_type": "code",
        "colab": {}
      },
      "source": [
        ""
      ],
      "execution_count": 0,
      "outputs": []
    },
    {
      "cell_type": "code",
      "metadata": {
        "id": "VUn88jZIjIIM",
        "colab_type": "code",
        "outputId": "76843981-f637-40bc-8967-260fa049f5fa",
        "colab": {
          "base_uri": "https://localhost:8080/",
          "height": 677
        }
      },
      "source": [
        "df.head(20)"
      ],
      "execution_count": 422,
      "outputs": [
        {
          "output_type": "execute_result",
          "data": {
            "text/html": [
              "<div>\n",
              "<style scoped>\n",
              "    .dataframe tbody tr th:only-of-type {\n",
              "        vertical-align: middle;\n",
              "    }\n",
              "\n",
              "    .dataframe tbody tr th {\n",
              "        vertical-align: top;\n",
              "    }\n",
              "\n",
              "    .dataframe thead th {\n",
              "        text-align: right;\n",
              "    }\n",
              "</style>\n",
              "<table border=\"1\" class=\"dataframe\">\n",
              "  <thead>\n",
              "    <tr style=\"text-align: right;\">\n",
              "      <th></th>\n",
              "      <th>Image</th>\n",
              "      <th>Class</th>\n",
              "      <th>Images</th>\n",
              "    </tr>\n",
              "  </thead>\n",
              "  <tbody>\n",
              "    <tr>\n",
              "      <th>0</th>\n",
              "      <td>image7042.jpg</td>\n",
              "      <td>Food</td>\n",
              "      <td>[[[0.22745098173618317], [0.250980406999588], ...</td>\n",
              "    </tr>\n",
              "    <tr>\n",
              "      <th>1</th>\n",
              "      <td>image3327.jpg</td>\n",
              "      <td>misc</td>\n",
              "      <td>[[[0.4000000059604645], [0.3137255012989044], ...</td>\n",
              "    </tr>\n",
              "    <tr>\n",
              "      <th>2</th>\n",
              "      <td>image10335.jpg</td>\n",
              "      <td>Attire</td>\n",
              "      <td>[[[0.03529411926865578], [0.03529411926865578]...</td>\n",
              "    </tr>\n",
              "    <tr>\n",
              "      <th>3</th>\n",
              "      <td>image8019.jpg</td>\n",
              "      <td>Food</td>\n",
              "      <td>[[[0.3019607961177826], [0.250980406999588], [...</td>\n",
              "    </tr>\n",
              "    <tr>\n",
              "      <th>4</th>\n",
              "      <td>image2128.jpg</td>\n",
              "      <td>Attire</td>\n",
              "      <td>[[[0.658823549747467], [0.658823549747467], [0...</td>\n",
              "    </tr>\n",
              "    <tr>\n",
              "      <th>5</th>\n",
              "      <td>image1106.jpg</td>\n",
              "      <td>misc</td>\n",
              "      <td>[[[0.5960784554481506], [0.48627451062202454],...</td>\n",
              "    </tr>\n",
              "    <tr>\n",
              "      <th>6</th>\n",
              "      <td>image6750.jpg</td>\n",
              "      <td>Food</td>\n",
              "      <td>[[[0.2666666805744171], [0.22745098173618317],...</td>\n",
              "    </tr>\n",
              "    <tr>\n",
              "      <th>7</th>\n",
              "      <td>image5508.jpg</td>\n",
              "      <td>Food</td>\n",
              "      <td>[[[0.3686274588108063], [0.13725490868091583],...</td>\n",
              "    </tr>\n",
              "    <tr>\n",
              "      <th>8</th>\n",
              "      <td>image9571.jpg</td>\n",
              "      <td>Food</td>\n",
              "      <td>[[[0.9764705896377563], [1.0], [1.0], [0.99607...</td>\n",
              "    </tr>\n",
              "    <tr>\n",
              "      <th>9</th>\n",
              "      <td>image9613.jpg</td>\n",
              "      <td>Food</td>\n",
              "      <td>[[[0.95686274766922], [0.95686274766922], [0.9...</td>\n",
              "    </tr>\n",
              "    <tr>\n",
              "      <th>10</th>\n",
              "      <td>image1719.jpg</td>\n",
              "      <td>Attire</td>\n",
              "      <td>[[[0.7921568751335144], [0.7411764860153198], ...</td>\n",
              "    </tr>\n",
              "    <tr>\n",
              "      <th>11</th>\n",
              "      <td>image61.jpg</td>\n",
              "      <td>Decorationandsignage</td>\n",
              "      <td>[[[0.7568627595901489], [0.8627451062202454], ...</td>\n",
              "    </tr>\n",
              "    <tr>\n",
              "      <th>12</th>\n",
              "      <td>image10285.jpg</td>\n",
              "      <td>Food</td>\n",
              "      <td>[[[0.24705882370471954], [0.2705882489681244],...</td>\n",
              "    </tr>\n",
              "    <tr>\n",
              "      <th>13</th>\n",
              "      <td>image129.jpg</td>\n",
              "      <td>Decorationandsignage</td>\n",
              "      <td>[[[0.9411764740943909], [0.9411764740943909], ...</td>\n",
              "    </tr>\n",
              "    <tr>\n",
              "      <th>14</th>\n",
              "      <td>image6760.jpg</td>\n",
              "      <td>Food</td>\n",
              "      <td>[[[0.24313725531101227], [0.25882354378700256]...</td>\n",
              "    </tr>\n",
              "    <tr>\n",
              "      <th>15</th>\n",
              "      <td>image192.jpg</td>\n",
              "      <td>Food</td>\n",
              "      <td>[[[0.35686275362968445], [0.37254902720451355]...</td>\n",
              "    </tr>\n",
              "    <tr>\n",
              "      <th>16</th>\n",
              "      <td>image2008.jpg</td>\n",
              "      <td>Attire</td>\n",
              "      <td>[[[0.16862745583057404], [0.1725490242242813],...</td>\n",
              "    </tr>\n",
              "    <tr>\n",
              "      <th>17</th>\n",
              "      <td>image3892.jpg</td>\n",
              "      <td>misc</td>\n",
              "      <td>[[[0.4313725531101227], [0.32549020648002625],...</td>\n",
              "    </tr>\n",
              "    <tr>\n",
              "      <th>18</th>\n",
              "      <td>image9817.jpg</td>\n",
              "      <td>Food</td>\n",
              "      <td>[[[0.29411765933036804], [0.3529411852359772],...</td>\n",
              "    </tr>\n",
              "    <tr>\n",
              "      <th>19</th>\n",
              "      <td>image3123.jpg</td>\n",
              "      <td>Food</td>\n",
              "      <td>[[[0.2705882489681244], [0.2705882489681244], ...</td>\n",
              "    </tr>\n",
              "  </tbody>\n",
              "</table>\n",
              "</div>"
            ],
            "text/plain": [
              "             Image  ...                                             Images\n",
              "0    image7042.jpg  ...  [[[0.22745098173618317], [0.250980406999588], ...\n",
              "1    image3327.jpg  ...  [[[0.4000000059604645], [0.3137255012989044], ...\n",
              "2   image10335.jpg  ...  [[[0.03529411926865578], [0.03529411926865578]...\n",
              "3    image8019.jpg  ...  [[[0.3019607961177826], [0.250980406999588], [...\n",
              "4    image2128.jpg  ...  [[[0.658823549747467], [0.658823549747467], [0...\n",
              "5    image1106.jpg  ...  [[[0.5960784554481506], [0.48627451062202454],...\n",
              "6    image6750.jpg  ...  [[[0.2666666805744171], [0.22745098173618317],...\n",
              "7    image5508.jpg  ...  [[[0.3686274588108063], [0.13725490868091583],...\n",
              "8    image9571.jpg  ...  [[[0.9764705896377563], [1.0], [1.0], [0.99607...\n",
              "9    image9613.jpg  ...  [[[0.95686274766922], [0.95686274766922], [0.9...\n",
              "10   image1719.jpg  ...  [[[0.7921568751335144], [0.7411764860153198], ...\n",
              "11     image61.jpg  ...  [[[0.7568627595901489], [0.8627451062202454], ...\n",
              "12  image10285.jpg  ...  [[[0.24705882370471954], [0.2705882489681244],...\n",
              "13    image129.jpg  ...  [[[0.9411764740943909], [0.9411764740943909], ...\n",
              "14   image6760.jpg  ...  [[[0.24313725531101227], [0.25882354378700256]...\n",
              "15    image192.jpg  ...  [[[0.35686275362968445], [0.37254902720451355]...\n",
              "16   image2008.jpg  ...  [[[0.16862745583057404], [0.1725490242242813],...\n",
              "17   image3892.jpg  ...  [[[0.4313725531101227], [0.32549020648002625],...\n",
              "18   image9817.jpg  ...  [[[0.29411765933036804], [0.3529411852359772],...\n",
              "19   image3123.jpg  ...  [[[0.2705882489681244], [0.2705882489681244], ...\n",
              "\n",
              "[20 rows x 3 columns]"
            ]
          },
          "metadata": {
            "tags": []
          },
          "execution_count": 422
        }
      ]
    },
    {
      "cell_type": "code",
      "metadata": {
        "id": "IIP_CYrTjKgP",
        "colab_type": "code",
        "colab": {}
      },
      "source": [
        ""
      ],
      "execution_count": 0,
      "outputs": []
    },
    {
      "cell_type": "code",
      "metadata": {
        "id": "V7AANvX2j1Cl",
        "colab_type": "code",
        "colab": {}
      },
      "source": [
        "from keras.utils import to_categorical"
      ],
      "execution_count": 0,
      "outputs": []
    },
    {
      "cell_type": "code",
      "metadata": {
        "id": "SiOTgg9vj_Xn",
        "colab_type": "code",
        "colab": {}
      },
      "source": [
        "from sklearn.model_selection import train_test_split"
      ],
      "execution_count": 0,
      "outputs": []
    },
    {
      "cell_type": "code",
      "metadata": {
        "id": "aGdMK0WmkHH5",
        "colab_type": "code",
        "colab": {}
      },
      "source": [
        ""
      ],
      "execution_count": 0,
      "outputs": []
    },
    {
      "cell_type": "code",
      "metadata": {
        "id": "H1CGQNUdkHtp",
        "colab_type": "code",
        "colab": {}
      },
      "source": [
        "from sklearn.preprocessing import LabelEncoder\n",
        "le = LabelEncoder()"
      ],
      "execution_count": 0,
      "outputs": []
    },
    {
      "cell_type": "code",
      "metadata": {
        "id": "G_KifD83k43b",
        "colab_type": "code",
        "colab": {}
      },
      "source": [
        "df['Class'] = le.fit_transform(df['Class'])"
      ],
      "execution_count": 0,
      "outputs": []
    },
    {
      "cell_type": "code",
      "metadata": {
        "id": "MtrugURmlIwk",
        "colab_type": "code",
        "outputId": "8c9d4f3f-787f-489f-ebb6-8bffbe087584",
        "colab": {
          "base_uri": "https://localhost:8080/",
          "height": 677
        }
      },
      "source": [
        "df.head(20)"
      ],
      "execution_count": 427,
      "outputs": [
        {
          "output_type": "execute_result",
          "data": {
            "text/html": [
              "<div>\n",
              "<style scoped>\n",
              "    .dataframe tbody tr th:only-of-type {\n",
              "        vertical-align: middle;\n",
              "    }\n",
              "\n",
              "    .dataframe tbody tr th {\n",
              "        vertical-align: top;\n",
              "    }\n",
              "\n",
              "    .dataframe thead th {\n",
              "        text-align: right;\n",
              "    }\n",
              "</style>\n",
              "<table border=\"1\" class=\"dataframe\">\n",
              "  <thead>\n",
              "    <tr style=\"text-align: right;\">\n",
              "      <th></th>\n",
              "      <th>Image</th>\n",
              "      <th>Class</th>\n",
              "      <th>Images</th>\n",
              "    </tr>\n",
              "  </thead>\n",
              "  <tbody>\n",
              "    <tr>\n",
              "      <th>0</th>\n",
              "      <td>image7042.jpg</td>\n",
              "      <td>2</td>\n",
              "      <td>[[[0.22745098173618317], [0.250980406999588], ...</td>\n",
              "    </tr>\n",
              "    <tr>\n",
              "      <th>1</th>\n",
              "      <td>image3327.jpg</td>\n",
              "      <td>3</td>\n",
              "      <td>[[[0.4000000059604645], [0.3137255012989044], ...</td>\n",
              "    </tr>\n",
              "    <tr>\n",
              "      <th>2</th>\n",
              "      <td>image10335.jpg</td>\n",
              "      <td>0</td>\n",
              "      <td>[[[0.03529411926865578], [0.03529411926865578]...</td>\n",
              "    </tr>\n",
              "    <tr>\n",
              "      <th>3</th>\n",
              "      <td>image8019.jpg</td>\n",
              "      <td>2</td>\n",
              "      <td>[[[0.3019607961177826], [0.250980406999588], [...</td>\n",
              "    </tr>\n",
              "    <tr>\n",
              "      <th>4</th>\n",
              "      <td>image2128.jpg</td>\n",
              "      <td>0</td>\n",
              "      <td>[[[0.658823549747467], [0.658823549747467], [0...</td>\n",
              "    </tr>\n",
              "    <tr>\n",
              "      <th>5</th>\n",
              "      <td>image1106.jpg</td>\n",
              "      <td>3</td>\n",
              "      <td>[[[0.5960784554481506], [0.48627451062202454],...</td>\n",
              "    </tr>\n",
              "    <tr>\n",
              "      <th>6</th>\n",
              "      <td>image6750.jpg</td>\n",
              "      <td>2</td>\n",
              "      <td>[[[0.2666666805744171], [0.22745098173618317],...</td>\n",
              "    </tr>\n",
              "    <tr>\n",
              "      <th>7</th>\n",
              "      <td>image5508.jpg</td>\n",
              "      <td>2</td>\n",
              "      <td>[[[0.3686274588108063], [0.13725490868091583],...</td>\n",
              "    </tr>\n",
              "    <tr>\n",
              "      <th>8</th>\n",
              "      <td>image9571.jpg</td>\n",
              "      <td>2</td>\n",
              "      <td>[[[0.9764705896377563], [1.0], [1.0], [0.99607...</td>\n",
              "    </tr>\n",
              "    <tr>\n",
              "      <th>9</th>\n",
              "      <td>image9613.jpg</td>\n",
              "      <td>2</td>\n",
              "      <td>[[[0.95686274766922], [0.95686274766922], [0.9...</td>\n",
              "    </tr>\n",
              "    <tr>\n",
              "      <th>10</th>\n",
              "      <td>image1719.jpg</td>\n",
              "      <td>0</td>\n",
              "      <td>[[[0.7921568751335144], [0.7411764860153198], ...</td>\n",
              "    </tr>\n",
              "    <tr>\n",
              "      <th>11</th>\n",
              "      <td>image61.jpg</td>\n",
              "      <td>1</td>\n",
              "      <td>[[[0.7568627595901489], [0.8627451062202454], ...</td>\n",
              "    </tr>\n",
              "    <tr>\n",
              "      <th>12</th>\n",
              "      <td>image10285.jpg</td>\n",
              "      <td>2</td>\n",
              "      <td>[[[0.24705882370471954], [0.2705882489681244],...</td>\n",
              "    </tr>\n",
              "    <tr>\n",
              "      <th>13</th>\n",
              "      <td>image129.jpg</td>\n",
              "      <td>1</td>\n",
              "      <td>[[[0.9411764740943909], [0.9411764740943909], ...</td>\n",
              "    </tr>\n",
              "    <tr>\n",
              "      <th>14</th>\n",
              "      <td>image6760.jpg</td>\n",
              "      <td>2</td>\n",
              "      <td>[[[0.24313725531101227], [0.25882354378700256]...</td>\n",
              "    </tr>\n",
              "    <tr>\n",
              "      <th>15</th>\n",
              "      <td>image192.jpg</td>\n",
              "      <td>2</td>\n",
              "      <td>[[[0.35686275362968445], [0.37254902720451355]...</td>\n",
              "    </tr>\n",
              "    <tr>\n",
              "      <th>16</th>\n",
              "      <td>image2008.jpg</td>\n",
              "      <td>0</td>\n",
              "      <td>[[[0.16862745583057404], [0.1725490242242813],...</td>\n",
              "    </tr>\n",
              "    <tr>\n",
              "      <th>17</th>\n",
              "      <td>image3892.jpg</td>\n",
              "      <td>3</td>\n",
              "      <td>[[[0.4313725531101227], [0.32549020648002625],...</td>\n",
              "    </tr>\n",
              "    <tr>\n",
              "      <th>18</th>\n",
              "      <td>image9817.jpg</td>\n",
              "      <td>2</td>\n",
              "      <td>[[[0.29411765933036804], [0.3529411852359772],...</td>\n",
              "    </tr>\n",
              "    <tr>\n",
              "      <th>19</th>\n",
              "      <td>image3123.jpg</td>\n",
              "      <td>2</td>\n",
              "      <td>[[[0.2705882489681244], [0.2705882489681244], ...</td>\n",
              "    </tr>\n",
              "  </tbody>\n",
              "</table>\n",
              "</div>"
            ],
            "text/plain": [
              "             Image  Class                                             Images\n",
              "0    image7042.jpg      2  [[[0.22745098173618317], [0.250980406999588], ...\n",
              "1    image3327.jpg      3  [[[0.4000000059604645], [0.3137255012989044], ...\n",
              "2   image10335.jpg      0  [[[0.03529411926865578], [0.03529411926865578]...\n",
              "3    image8019.jpg      2  [[[0.3019607961177826], [0.250980406999588], [...\n",
              "4    image2128.jpg      0  [[[0.658823549747467], [0.658823549747467], [0...\n",
              "5    image1106.jpg      3  [[[0.5960784554481506], [0.48627451062202454],...\n",
              "6    image6750.jpg      2  [[[0.2666666805744171], [0.22745098173618317],...\n",
              "7    image5508.jpg      2  [[[0.3686274588108063], [0.13725490868091583],...\n",
              "8    image9571.jpg      2  [[[0.9764705896377563], [1.0], [1.0], [0.99607...\n",
              "9    image9613.jpg      2  [[[0.95686274766922], [0.95686274766922], [0.9...\n",
              "10   image1719.jpg      0  [[[0.7921568751335144], [0.7411764860153198], ...\n",
              "11     image61.jpg      1  [[[0.7568627595901489], [0.8627451062202454], ...\n",
              "12  image10285.jpg      2  [[[0.24705882370471954], [0.2705882489681244],...\n",
              "13    image129.jpg      1  [[[0.9411764740943909], [0.9411764740943909], ...\n",
              "14   image6760.jpg      2  [[[0.24313725531101227], [0.25882354378700256]...\n",
              "15    image192.jpg      2  [[[0.35686275362968445], [0.37254902720451355]...\n",
              "16   image2008.jpg      0  [[[0.16862745583057404], [0.1725490242242813],...\n",
              "17   image3892.jpg      3  [[[0.4313725531101227], [0.32549020648002625],...\n",
              "18   image9817.jpg      2  [[[0.29411765933036804], [0.3529411852359772],...\n",
              "19   image3123.jpg      2  [[[0.2705882489681244], [0.2705882489681244], ..."
            ]
          },
          "metadata": {
            "tags": []
          },
          "execution_count": 427
        }
      ]
    },
    {
      "cell_type": "code",
      "metadata": {
        "id": "I4sj4S-nlNs0",
        "colab_type": "code",
        "outputId": "ad66f205-fc2a-4143-e8c2-f37914d7845a",
        "colab": {
          "base_uri": "https://localhost:8080/",
          "height": 86
        }
      },
      "source": [
        "df.dtypes"
      ],
      "execution_count": 428,
      "outputs": [
        {
          "output_type": "execute_result",
          "data": {
            "text/plain": [
              "Image     object\n",
              "Class      int64\n",
              "Images    object\n",
              "dtype: object"
            ]
          },
          "metadata": {
            "tags": []
          },
          "execution_count": 428
        }
      ]
    },
    {
      "cell_type": "code",
      "metadata": {
        "id": "qKfCVrs7zXkH",
        "colab_type": "code",
        "colab": {}
      },
      "source": [
        "y=df['Class'].values\n",
        "y = to_categorical(y)"
      ],
      "execution_count": 0,
      "outputs": []
    },
    {
      "cell_type": "code",
      "metadata": {
        "id": "TIUwMDHqzecp",
        "colab_type": "code",
        "outputId": "2561b341-42e3-4778-e1ad-84e6baef45a0",
        "colab": {
          "base_uri": "https://localhost:8080/",
          "height": 139
        }
      },
      "source": [
        "y"
      ],
      "execution_count": 430,
      "outputs": [
        {
          "output_type": "execute_result",
          "data": {
            "text/plain": [
              "array([[0., 0., 1., 0.],\n",
              "       [0., 0., 0., 1.],\n",
              "       [1., 0., 0., 0.],\n",
              "       ...,\n",
              "       [0., 0., 1., 0.],\n",
              "       [0., 0., 1., 0.],\n",
              "       [1., 0., 0., 0.]], dtype=float32)"
            ]
          },
          "metadata": {
            "tags": []
          },
          "execution_count": 430
        }
      ]
    },
    {
      "cell_type": "code",
      "metadata": {
        "id": "_kopmCcGzf-2",
        "colab_type": "code",
        "colab": {}
      },
      "source": [
        "df = df.drop('Image',axis=1)"
      ],
      "execution_count": 0,
      "outputs": []
    },
    {
      "cell_type": "code",
      "metadata": {
        "id": "a52ZrRtozm2t",
        "colab_type": "code",
        "outputId": "ee987fb4-a70d-437e-a12c-e2ae72abd686",
        "colab": {
          "base_uri": "https://localhost:8080/",
          "height": 81
        }
      },
      "source": [
        "df.head(1)"
      ],
      "execution_count": 432,
      "outputs": [
        {
          "output_type": "execute_result",
          "data": {
            "text/html": [
              "<div>\n",
              "<style scoped>\n",
              "    .dataframe tbody tr th:only-of-type {\n",
              "        vertical-align: middle;\n",
              "    }\n",
              "\n",
              "    .dataframe tbody tr th {\n",
              "        vertical-align: top;\n",
              "    }\n",
              "\n",
              "    .dataframe thead th {\n",
              "        text-align: right;\n",
              "    }\n",
              "</style>\n",
              "<table border=\"1\" class=\"dataframe\">\n",
              "  <thead>\n",
              "    <tr style=\"text-align: right;\">\n",
              "      <th></th>\n",
              "      <th>Class</th>\n",
              "      <th>Images</th>\n",
              "    </tr>\n",
              "  </thead>\n",
              "  <tbody>\n",
              "    <tr>\n",
              "      <th>0</th>\n",
              "      <td>2</td>\n",
              "      <td>[[[0.22745098173618317], [0.250980406999588], ...</td>\n",
              "    </tr>\n",
              "  </tbody>\n",
              "</table>\n",
              "</div>"
            ],
            "text/plain": [
              "   Class                                             Images\n",
              "0      2  [[[0.22745098173618317], [0.250980406999588], ..."
            ]
          },
          "metadata": {
            "tags": []
          },
          "execution_count": 432
        }
      ]
    },
    {
      "cell_type": "code",
      "metadata": {
        "id": "2MYIlwEtzn41",
        "colab_type": "code",
        "colab": {}
      },
      "source": [
        "X_train, X_test, y_train, y_test = train_test_split(X, y, random_state=42, test_size=0.2)"
      ],
      "execution_count": 0,
      "outputs": []
    },
    {
      "cell_type": "code",
      "metadata": {
        "id": "IQ0ZmiqXzs0-",
        "colab_type": "code",
        "colab": {}
      },
      "source": [
        "from keras.models import Sequential\n",
        "from keras.layers import Dense, Dropout, Flatten\n",
        "from keras.layers import Conv2D, MaxPooling2D\n",
        "model = Sequential()\n",
        "model.add(Conv2D(32, kernel_size=(3, 3),activation='relu',input_shape=(28,28,1)))\n",
        "model.add(Conv2D(64, (3, 3), activation='relu'))\n",
        "model.add(MaxPooling2D(pool_size=(2, 2)))\n",
        "model.add(Dropout(0.25))\n",
        "\n",
        "\n",
        "model.add(Flatten())\n",
        "model.add(Dense(128, activation='relu'))\n",
        "model.add(Dropout(0.5))\n",
        "model.add(Dense(4, activation='softmax'))"
      ],
      "execution_count": 0,
      "outputs": []
    },
    {
      "cell_type": "code",
      "metadata": {
        "id": "a4HCmLW0zyjW",
        "colab_type": "code",
        "colab": {}
      },
      "source": [
        "model.compile(loss='categorical_crossentropy',optimizer='Adam',metrics=['accuracy'])"
      ],
      "execution_count": 0,
      "outputs": []
    },
    {
      "cell_type": "code",
      "metadata": {
        "id": "or5pLigTz-js",
        "colab_type": "code",
        "outputId": "abfd969f-302b-4fcd-e798-dec6eaa8b6e3",
        "colab": {
          "base_uri": "https://localhost:8080/",
          "height": 746
        }
      },
      "source": [
        "model.fit(X_train, y_train, epochs=20, validation_data=(X_test, y_test))"
      ],
      "execution_count": 439,
      "outputs": [
        {
          "output_type": "stream",
          "text": [
            "Train on 4786 samples, validate on 1197 samples\n",
            "Epoch 1/20\n",
            "4786/4786 [==============================] - 14s 3ms/step - loss: 1.2997 - accuracy: 0.3738 - val_loss: 1.2550 - val_accuracy: 0.4135\n",
            "Epoch 2/20\n",
            "4786/4786 [==============================] - 14s 3ms/step - loss: 1.2311 - accuracy: 0.4323 - val_loss: 1.2257 - val_accuracy: 0.4294\n",
            "Epoch 3/20\n",
            "4786/4786 [==============================] - 14s 3ms/step - loss: 1.1972 - accuracy: 0.4532 - val_loss: 1.1962 - val_accuracy: 0.4762\n",
            "Epoch 4/20\n",
            "4786/4786 [==============================] - 14s 3ms/step - loss: 1.1625 - accuracy: 0.4818 - val_loss: 1.1767 - val_accuracy: 0.4829\n",
            "Epoch 5/20\n",
            "4786/4786 [==============================] - 14s 3ms/step - loss: 1.1174 - accuracy: 0.5029 - val_loss: 1.1611 - val_accuracy: 0.5029\n",
            "Epoch 6/20\n",
            "4786/4786 [==============================] - 14s 3ms/step - loss: 1.0718 - accuracy: 0.5313 - val_loss: 1.1654 - val_accuracy: 0.5071\n",
            "Epoch 7/20\n",
            "4786/4786 [==============================] - 14s 3ms/step - loss: 1.0292 - accuracy: 0.5664 - val_loss: 1.1511 - val_accuracy: 0.4954\n",
            "Epoch 8/20\n",
            "4786/4786 [==============================] - 14s 3ms/step - loss: 0.9734 - accuracy: 0.5886 - val_loss: 1.1802 - val_accuracy: 0.4987\n",
            "Epoch 9/20\n",
            "4786/4786 [==============================] - 14s 3ms/step - loss: 0.9135 - accuracy: 0.6118 - val_loss: 1.1705 - val_accuracy: 0.5046\n",
            "Epoch 10/20\n",
            "4786/4786 [==============================] - 14s 3ms/step - loss: 0.8370 - accuracy: 0.6575 - val_loss: 1.2920 - val_accuracy: 0.4987\n",
            "Epoch 11/20\n",
            "4786/4786 [==============================] - 14s 3ms/step - loss: 0.7808 - accuracy: 0.6803 - val_loss: 1.2451 - val_accuracy: 0.5079\n",
            "Epoch 12/20\n",
            "4786/4786 [==============================] - 14s 3ms/step - loss: 0.7187 - accuracy: 0.7071 - val_loss: 1.2908 - val_accuracy: 0.4946\n",
            "Epoch 13/20\n",
            "4786/4786 [==============================] - 14s 3ms/step - loss: 0.6567 - accuracy: 0.7413 - val_loss: 1.3324 - val_accuracy: 0.4745\n",
            "Epoch 14/20\n",
            "4786/4786 [==============================] - 14s 3ms/step - loss: 0.6001 - accuracy: 0.7660 - val_loss: 1.4609 - val_accuracy: 0.4662\n",
            "Epoch 15/20\n",
            "4786/4786 [==============================] - 14s 3ms/step - loss: 0.5451 - accuracy: 0.7808 - val_loss: 1.4385 - val_accuracy: 0.4770\n",
            "Epoch 16/20\n",
            "4786/4786 [==============================] - 14s 3ms/step - loss: 0.4981 - accuracy: 0.8092 - val_loss: 1.5736 - val_accuracy: 0.4904\n",
            "Epoch 17/20\n",
            "4786/4786 [==============================] - 14s 3ms/step - loss: 0.4807 - accuracy: 0.7986 - val_loss: 1.5982 - val_accuracy: 0.4921\n",
            "Epoch 18/20\n",
            "4786/4786 [==============================] - 17s 3ms/step - loss: 0.4244 - accuracy: 0.8312 - val_loss: 1.5952 - val_accuracy: 0.4703\n",
            "Epoch 19/20\n",
            "4786/4786 [==============================] - 14s 3ms/step - loss: 0.3847 - accuracy: 0.8504 - val_loss: 1.7414 - val_accuracy: 0.4879\n",
            "Epoch 20/20\n",
            "4786/4786 [==============================] - 14s 3ms/step - loss: 0.3705 - accuracy: 0.8552 - val_loss: 1.8064 - val_accuracy: 0.4745\n"
          ],
          "name": "stdout"
        },
        {
          "output_type": "execute_result",
          "data": {
            "text/plain": [
              "<keras.callbacks.callbacks.History at 0x7fcfe55057f0>"
            ]
          },
          "metadata": {
            "tags": []
          },
          "execution_count": 439
        }
      ]
    },
    {
      "cell_type": "code",
      "metadata": {
        "id": "iiP7C4pi0CFo",
        "colab_type": "code",
        "colab": {}
      },
      "source": [
        "df1 = pd.read_csv('imagelabeling/dataset/test.csv')"
      ],
      "execution_count": 0,
      "outputs": []
    },
    {
      "cell_type": "code",
      "metadata": {
        "id": "REVXHZW9EVzS",
        "colab_type": "code",
        "colab": {
          "base_uri": "https://localhost:8080/",
          "height": 206
        },
        "outputId": "65992fbe-864b-488c-aedc-860352a43ff9"
      },
      "source": [
        "df1.head()"
      ],
      "execution_count": 441,
      "outputs": [
        {
          "output_type": "execute_result",
          "data": {
            "text/html": [
              "<div>\n",
              "<style scoped>\n",
              "    .dataframe tbody tr th:only-of-type {\n",
              "        vertical-align: middle;\n",
              "    }\n",
              "\n",
              "    .dataframe tbody tr th {\n",
              "        vertical-align: top;\n",
              "    }\n",
              "\n",
              "    .dataframe thead th {\n",
              "        text-align: right;\n",
              "    }\n",
              "</style>\n",
              "<table border=\"1\" class=\"dataframe\">\n",
              "  <thead>\n",
              "    <tr style=\"text-align: right;\">\n",
              "      <th></th>\n",
              "      <th>Image</th>\n",
              "    </tr>\n",
              "  </thead>\n",
              "  <tbody>\n",
              "    <tr>\n",
              "      <th>0</th>\n",
              "      <td>image6245.jpg</td>\n",
              "    </tr>\n",
              "    <tr>\n",
              "      <th>1</th>\n",
              "      <td>image10409.jpg</td>\n",
              "    </tr>\n",
              "    <tr>\n",
              "      <th>2</th>\n",
              "      <td>image8692.jpg</td>\n",
              "    </tr>\n",
              "    <tr>\n",
              "      <th>3</th>\n",
              "      <td>image10517.jpg</td>\n",
              "    </tr>\n",
              "    <tr>\n",
              "      <th>4</th>\n",
              "      <td>image2580.jpg</td>\n",
              "    </tr>\n",
              "  </tbody>\n",
              "</table>\n",
              "</div>"
            ],
            "text/plain": [
              "            Image\n",
              "0   image6245.jpg\n",
              "1  image10409.jpg\n",
              "2   image8692.jpg\n",
              "3  image10517.jpg\n",
              "4   image2580.jpg"
            ]
          },
          "metadata": {
            "tags": []
          },
          "execution_count": 441
        }
      ]
    },
    {
      "cell_type": "code",
      "metadata": {
        "id": "VFR5OrTEEYCY",
        "colab_type": "code",
        "colab": {
          "base_uri": "https://localhost:8080/",
          "height": 1000
        },
        "outputId": "4bc45cba-e902-4eda-a64d-12fa8a4b076a"
      },
      "source": [
        "test_image = []\n",
        "for i in tqdm(range(df1.shape[0])):\n",
        "  img  = image.load_img('imagelabeling/dataset/Test Images/' + df1['Image'][i] , target_size = (28,28,1),grayscale=True)\n",
        "  img = image.img_to_array(img)\n",
        "  img = img/255\n",
        "  test_image.append(img)\n",
        "\n",
        "X1 = np.array(test_image)\n",
        "\n"
      ],
      "execution_count": 442,
      "outputs": [
        {
          "output_type": "stream",
          "text": [
            "\n",
            "\n",
            "  0%|          | 0/3219 [00:00<?, ?it/s]\u001b[A\u001b[A/usr/local/lib/python3.6/dist-packages/keras_preprocessing/image/utils.py:104: UserWarning: grayscale is deprecated. Please use color_mode = \"grayscale\"\n",
            "  warnings.warn('grayscale is deprecated. Please use '\n",
            "\n",
            "\n",
            "  2%|▏         | 54/3219 [00:00<00:05, 536.08it/s]\u001b[A\u001b[A\n",
            "\n",
            "  3%|▎         | 109/3219 [00:00<00:05, 539.73it/s]\u001b[A\u001b[A\n",
            "\n",
            "  5%|▌         | 168/3219 [00:00<00:05, 552.32it/s]\u001b[A\u001b[A\n",
            "\n",
            "  7%|▋         | 227/3219 [00:00<00:05, 562.61it/s]\u001b[A\u001b[A\n",
            "\n",
            "  9%|▉         | 282/3219 [00:00<00:05, 556.08it/s]\u001b[A\u001b[A\n",
            "\n",
            " 11%|█         | 341/3219 [00:00<00:05, 564.95it/s]\u001b[A\u001b[A\n",
            "\n",
            " 12%|█▏        | 401/3219 [00:00<00:04, 574.51it/s]\u001b[A\u001b[A\n",
            "\n",
            " 14%|█▍        | 456/3219 [00:00<00:04, 566.13it/s]\u001b[A\u001b[A\n",
            "\n",
            " 16%|█▌        | 515/3219 [00:00<00:04, 572.70it/s]\u001b[A\u001b[A\n",
            "\n",
            " 18%|█▊        | 571/3219 [00:01<00:04, 557.14it/s]\u001b[A\u001b[A\n",
            "\n",
            " 20%|█▉        | 629/3219 [00:01<00:04, 561.57it/s]\u001b[A\u001b[A\n",
            "\n",
            " 21%|██▏       | 685/3219 [00:01<00:04, 555.06it/s]\u001b[A\u001b[A\n",
            "\n",
            " 23%|██▎       | 743/3219 [00:01<00:04, 561.63it/s]\u001b[A\u001b[A\n",
            "\n",
            " 25%|██▍       | 803/3219 [00:01<00:04, 572.12it/s]\u001b[A\u001b[A\n",
            "\n",
            " 27%|██▋       | 860/3219 [00:01<00:04, 568.71it/s]\u001b[A\u001b[A\n",
            "\n",
            " 28%|██▊       | 917/3219 [00:01<00:04, 568.06it/s]\u001b[A\u001b[A\n",
            "\n",
            " 30%|███       | 976/3219 [00:01<00:03, 572.43it/s]\u001b[A\u001b[A\n",
            "\n",
            " 32%|███▏      | 1034/3219 [00:01<00:03, 563.17it/s]\u001b[A\u001b[A\n",
            "\n",
            " 34%|███▍      | 1091/3219 [00:01<00:03, 564.33it/s]\u001b[A\u001b[A\n",
            "\n",
            " 36%|███▌      | 1150/3219 [00:02<00:03, 570.23it/s]\u001b[A\u001b[A\n",
            "\n",
            " 38%|███▊      | 1210/3219 [00:02<00:03, 578.40it/s]\u001b[A\u001b[A\n",
            "\n",
            " 39%|███▉      | 1268/3219 [00:02<00:03, 565.11it/s]\u001b[A\u001b[A\n",
            "\n",
            " 41%|████      | 1325/3219 [00:02<00:03, 560.97it/s]\u001b[A\u001b[A\n",
            "\n",
            " 43%|████▎     | 1382/3219 [00:02<00:03, 555.22it/s]\u001b[A\u001b[A\n",
            "\n",
            " 45%|████▍     | 1444/3219 [00:02<00:03, 571.05it/s]\u001b[A\u001b[A\n",
            "\n",
            " 47%|████▋     | 1506/3219 [00:02<00:02, 582.42it/s]\u001b[A\u001b[A\n",
            "\n",
            " 49%|████▊     | 1565/3219 [00:02<00:02, 584.39it/s]\u001b[A\u001b[A\n",
            "\n",
            " 50%|█████     | 1624/3219 [00:02<00:02, 585.71it/s]\u001b[A\u001b[A\n",
            "\n",
            " 52%|█████▏    | 1683/3219 [00:02<00:02, 581.26it/s]\u001b[A\u001b[A\n",
            "\n",
            " 54%|█████▍    | 1743/3219 [00:03<00:02, 584.25it/s]\u001b[A\u001b[A\n",
            "\n",
            " 56%|█████▌    | 1804/3219 [00:03<00:02, 589.33it/s]\u001b[A\u001b[A\n",
            "\n",
            " 58%|█████▊    | 1863/3219 [00:03<00:02, 568.38it/s]\u001b[A\u001b[A\n",
            "\n",
            " 60%|█████▉    | 1923/3219 [00:03<00:02, 575.93it/s]\u001b[A\u001b[A\n",
            "\n",
            " 62%|██████▏   | 1981/3219 [00:03<00:02, 566.44it/s]\u001b[A\u001b[A\n",
            "\n",
            " 63%|██████▎   | 2038/3219 [00:03<00:02, 563.10it/s]\u001b[A\u001b[A\n",
            "\n",
            " 65%|██████▌   | 2097/3219 [00:03<00:01, 569.46it/s]\u001b[A\u001b[A\n",
            "\n",
            " 67%|██████▋   | 2157/3219 [00:03<00:01, 575.88it/s]\u001b[A\u001b[A\n",
            "\n",
            " 69%|██████▉   | 2217/3219 [00:03<00:01, 582.16it/s]\u001b[A\u001b[A\n",
            "\n",
            " 71%|███████   | 2276/3219 [00:03<00:01, 568.67it/s]\u001b[A\u001b[A\n",
            "\n",
            " 73%|███████▎  | 2335/3219 [00:04<00:01, 573.01it/s]\u001b[A\u001b[A\n",
            "\n",
            " 74%|███████▍  | 2395/3219 [00:04<00:01, 580.04it/s]\u001b[A\u001b[A\n",
            "\n",
            " 76%|███████▌  | 2454/3219 [00:04<00:01, 577.29it/s]\u001b[A\u001b[A\n",
            "\n",
            " 78%|███████▊  | 2515/3219 [00:04<00:01, 586.11it/s]\u001b[A\u001b[A\n",
            "\n",
            " 80%|███████▉  | 2574/3219 [00:04<00:01, 578.02it/s]\u001b[A\u001b[A\n",
            "\n",
            " 82%|████████▏ | 2632/3219 [00:04<00:01, 574.41it/s]\u001b[A\u001b[A\n",
            "\n",
            " 84%|████████▎ | 2691/3219 [00:04<00:00, 576.77it/s]\u001b[A\u001b[A\n",
            "\n",
            " 85%|████████▌ | 2752/3219 [00:04<00:00, 585.03it/s]\u001b[A\u001b[A\n",
            "\n",
            " 87%|████████▋ | 2813/3219 [00:04<00:00, 590.39it/s]\u001b[A\u001b[A\n",
            "\n",
            " 89%|████████▉ | 2874/3219 [00:05<00:00, 593.54it/s]\u001b[A\u001b[A\n",
            "\n",
            " 91%|█████████ | 2934/3219 [00:05<00:00, 585.61it/s]\u001b[A\u001b[A\n",
            "\n",
            " 93%|█████████▎| 2996/3219 [00:05<00:00, 592.89it/s]\u001b[A\u001b[A\n",
            "\n",
            " 95%|█████████▍| 3056/3219 [00:05<00:00, 585.07it/s]\u001b[A\u001b[A\n",
            "\n",
            " 97%|█████████▋| 3118/3219 [00:05<00:00, 593.49it/s]\u001b[A\u001b[A\n",
            "\n",
            "100%|██████████| 3219/3219 [00:05<00:00, 575.41it/s]\n"
          ],
          "name": "stderr"
        }
      ]
    },
    {
      "cell_type": "code",
      "metadata": {
        "id": "afcaYM-YFZMr",
        "colab_type": "code",
        "colab": {}
      },
      "source": [
        "pred = model.predict_classes(X1)"
      ],
      "execution_count": 0,
      "outputs": []
    },
    {
      "cell_type": "code",
      "metadata": {
        "id": "z4YZX9EcJl2l",
        "colab_type": "code",
        "colab": {
          "base_uri": "https://localhost:8080/",
          "height": 34
        },
        "outputId": "78192483-b1cc-4488-c17b-7a70381ef241"
      },
      "source": [
        "pred.shape"
      ],
      "execution_count": 444,
      "outputs": [
        {
          "output_type": "execute_result",
          "data": {
            "text/plain": [
              "(3219,)"
            ]
          },
          "metadata": {
            "tags": []
          },
          "execution_count": 444
        }
      ]
    },
    {
      "cell_type": "code",
      "metadata": {
        "id": "nJSGNOE6Jnej",
        "colab_type": "code",
        "colab": {
          "base_uri": "https://localhost:8080/",
          "height": 34
        },
        "outputId": "955aa2f5-a575-4779-c14d-ad6cc5b9babd"
      },
      "source": [
        "pred"
      ],
      "execution_count": 445,
      "outputs": [
        {
          "output_type": "execute_result",
          "data": {
            "text/plain": [
              "array([2, 2, 2, ..., 0, 1, 3])"
            ]
          },
          "metadata": {
            "tags": []
          },
          "execution_count": 445
        }
      ]
    },
    {
      "cell_type": "code",
      "metadata": {
        "id": "ub2L40pkJ2QK",
        "colab_type": "code",
        "colab": {}
      },
      "source": [
        "prediction = pred.tolist()"
      ],
      "execution_count": 0,
      "outputs": []
    },
    {
      "cell_type": "code",
      "metadata": {
        "id": "hbTAbXW-J_nc",
        "colab_type": "code",
        "colab": {}
      },
      "source": [
        ""
      ],
      "execution_count": 0,
      "outputs": []
    },
    {
      "cell_type": "code",
      "metadata": {
        "id": "4oj85zElKBHC",
        "colab_type": "code",
        "colab": {}
      },
      "source": [
        "df1['Prediction'] = prediction"
      ],
      "execution_count": 0,
      "outputs": []
    },
    {
      "cell_type": "code",
      "metadata": {
        "id": "dHzQiTZTKLDd",
        "colab_type": "code",
        "colab": {
          "base_uri": "https://localhost:8080/",
          "height": 424
        },
        "outputId": "1f3d3f22-1c9d-416f-e528-1684dd1eb07c"
      },
      "source": [
        "df1"
      ],
      "execution_count": 448,
      "outputs": [
        {
          "output_type": "execute_result",
          "data": {
            "text/html": [
              "<div>\n",
              "<style scoped>\n",
              "    .dataframe tbody tr th:only-of-type {\n",
              "        vertical-align: middle;\n",
              "    }\n",
              "\n",
              "    .dataframe tbody tr th {\n",
              "        vertical-align: top;\n",
              "    }\n",
              "\n",
              "    .dataframe thead th {\n",
              "        text-align: right;\n",
              "    }\n",
              "</style>\n",
              "<table border=\"1\" class=\"dataframe\">\n",
              "  <thead>\n",
              "    <tr style=\"text-align: right;\">\n",
              "      <th></th>\n",
              "      <th>Image</th>\n",
              "      <th>Prediction</th>\n",
              "    </tr>\n",
              "  </thead>\n",
              "  <tbody>\n",
              "    <tr>\n",
              "      <th>0</th>\n",
              "      <td>image6245.jpg</td>\n",
              "      <td>2</td>\n",
              "    </tr>\n",
              "    <tr>\n",
              "      <th>1</th>\n",
              "      <td>image10409.jpg</td>\n",
              "      <td>2</td>\n",
              "    </tr>\n",
              "    <tr>\n",
              "      <th>2</th>\n",
              "      <td>image8692.jpg</td>\n",
              "      <td>2</td>\n",
              "    </tr>\n",
              "    <tr>\n",
              "      <th>3</th>\n",
              "      <td>image10517.jpg</td>\n",
              "      <td>2</td>\n",
              "    </tr>\n",
              "    <tr>\n",
              "      <th>4</th>\n",
              "      <td>image2580.jpg</td>\n",
              "      <td>1</td>\n",
              "    </tr>\n",
              "    <tr>\n",
              "      <th>...</th>\n",
              "      <td>...</td>\n",
              "      <td>...</td>\n",
              "    </tr>\n",
              "    <tr>\n",
              "      <th>3214</th>\n",
              "      <td>image4968.jpg</td>\n",
              "      <td>2</td>\n",
              "    </tr>\n",
              "    <tr>\n",
              "      <th>3215</th>\n",
              "      <td>image6673.jpg</td>\n",
              "      <td>0</td>\n",
              "    </tr>\n",
              "    <tr>\n",
              "      <th>3216</th>\n",
              "      <td>image3442.jpg</td>\n",
              "      <td>0</td>\n",
              "    </tr>\n",
              "    <tr>\n",
              "      <th>3217</th>\n",
              "      <td>image8178.jpg</td>\n",
              "      <td>1</td>\n",
              "    </tr>\n",
              "    <tr>\n",
              "      <th>3218</th>\n",
              "      <td>image5367.jpg</td>\n",
              "      <td>3</td>\n",
              "    </tr>\n",
              "  </tbody>\n",
              "</table>\n",
              "<p>3219 rows × 2 columns</p>\n",
              "</div>"
            ],
            "text/plain": [
              "               Image  Prediction\n",
              "0      image6245.jpg           2\n",
              "1     image10409.jpg           2\n",
              "2      image8692.jpg           2\n",
              "3     image10517.jpg           2\n",
              "4      image2580.jpg           1\n",
              "...              ...         ...\n",
              "3214   image4968.jpg           2\n",
              "3215   image6673.jpg           0\n",
              "3216   image3442.jpg           0\n",
              "3217   image8178.jpg           1\n",
              "3218   image5367.jpg           3\n",
              "\n",
              "[3219 rows x 2 columns]"
            ]
          },
          "metadata": {
            "tags": []
          },
          "execution_count": 448
        }
      ]
    },
    {
      "cell_type": "code",
      "metadata": {
        "id": "7lz8A6RHKMjG",
        "colab_type": "code",
        "colab": {}
      },
      "source": [
        "\n",
        "\n",
        "df1['Prediction'] = df1['Prediction'].astype(str) "
      ],
      "execution_count": 0,
      "outputs": []
    },
    {
      "cell_type": "code",
      "metadata": {
        "id": "FeoUTRrfMsfT",
        "colab_type": "code",
        "colab": {
          "base_uri": "https://localhost:8080/",
          "height": 69
        },
        "outputId": "839114ab-a0bf-456f-9763-104c28da9b1f"
      },
      "source": [
        "df1.dtypes"
      ],
      "execution_count": 450,
      "outputs": [
        {
          "output_type": "execute_result",
          "data": {
            "text/plain": [
              "Image         object\n",
              "Prediction    object\n",
              "dtype: object"
            ]
          },
          "metadata": {
            "tags": []
          },
          "execution_count": 450
        }
      ]
    },
    {
      "cell_type": "code",
      "metadata": {
        "id": "iLI8gTswODgU",
        "colab_type": "code",
        "colab": {
          "base_uri": "https://localhost:8080/",
          "height": 424
        },
        "outputId": "a313fa96-cdbf-4fbb-ca05-2729dc30c62e"
      },
      "source": [
        "df1"
      ],
      "execution_count": 451,
      "outputs": [
        {
          "output_type": "execute_result",
          "data": {
            "text/html": [
              "<div>\n",
              "<style scoped>\n",
              "    .dataframe tbody tr th:only-of-type {\n",
              "        vertical-align: middle;\n",
              "    }\n",
              "\n",
              "    .dataframe tbody tr th {\n",
              "        vertical-align: top;\n",
              "    }\n",
              "\n",
              "    .dataframe thead th {\n",
              "        text-align: right;\n",
              "    }\n",
              "</style>\n",
              "<table border=\"1\" class=\"dataframe\">\n",
              "  <thead>\n",
              "    <tr style=\"text-align: right;\">\n",
              "      <th></th>\n",
              "      <th>Image</th>\n",
              "      <th>Prediction</th>\n",
              "    </tr>\n",
              "  </thead>\n",
              "  <tbody>\n",
              "    <tr>\n",
              "      <th>0</th>\n",
              "      <td>image6245.jpg</td>\n",
              "      <td>2</td>\n",
              "    </tr>\n",
              "    <tr>\n",
              "      <th>1</th>\n",
              "      <td>image10409.jpg</td>\n",
              "      <td>2</td>\n",
              "    </tr>\n",
              "    <tr>\n",
              "      <th>2</th>\n",
              "      <td>image8692.jpg</td>\n",
              "      <td>2</td>\n",
              "    </tr>\n",
              "    <tr>\n",
              "      <th>3</th>\n",
              "      <td>image10517.jpg</td>\n",
              "      <td>2</td>\n",
              "    </tr>\n",
              "    <tr>\n",
              "      <th>4</th>\n",
              "      <td>image2580.jpg</td>\n",
              "      <td>1</td>\n",
              "    </tr>\n",
              "    <tr>\n",
              "      <th>...</th>\n",
              "      <td>...</td>\n",
              "      <td>...</td>\n",
              "    </tr>\n",
              "    <tr>\n",
              "      <th>3214</th>\n",
              "      <td>image4968.jpg</td>\n",
              "      <td>2</td>\n",
              "    </tr>\n",
              "    <tr>\n",
              "      <th>3215</th>\n",
              "      <td>image6673.jpg</td>\n",
              "      <td>0</td>\n",
              "    </tr>\n",
              "    <tr>\n",
              "      <th>3216</th>\n",
              "      <td>image3442.jpg</td>\n",
              "      <td>0</td>\n",
              "    </tr>\n",
              "    <tr>\n",
              "      <th>3217</th>\n",
              "      <td>image8178.jpg</td>\n",
              "      <td>1</td>\n",
              "    </tr>\n",
              "    <tr>\n",
              "      <th>3218</th>\n",
              "      <td>image5367.jpg</td>\n",
              "      <td>3</td>\n",
              "    </tr>\n",
              "  </tbody>\n",
              "</table>\n",
              "<p>3219 rows × 2 columns</p>\n",
              "</div>"
            ],
            "text/plain": [
              "               Image Prediction\n",
              "0      image6245.jpg          2\n",
              "1     image10409.jpg          2\n",
              "2      image8692.jpg          2\n",
              "3     image10517.jpg          2\n",
              "4      image2580.jpg          1\n",
              "...              ...        ...\n",
              "3214   image4968.jpg          2\n",
              "3215   image6673.jpg          0\n",
              "3216   image3442.jpg          0\n",
              "3217   image8178.jpg          1\n",
              "3218   image5367.jpg          3\n",
              "\n",
              "[3219 rows x 2 columns]"
            ]
          },
          "metadata": {
            "tags": []
          },
          "execution_count": 451
        }
      ]
    },
    {
      "cell_type": "code",
      "metadata": {
        "id": "Ffy3KSL9OgdJ",
        "colab_type": "code",
        "colab": {}
      },
      "source": [
        "df1['Prediction'] = df1['Prediction'].replace(to_replace =\"0\", \n",
        "                 value =\"Attire\") \n",
        "df1['Prediction'] = df1['Prediction'].replace(to_replace =\"1\", \n",
        "                 value =\"Decorationandsignage\") \n",
        "df1['Prediction'] = df1['Prediction'].replace(to_replace =\"2\", \n",
        "                 value =\"Food\") \n",
        "df1['Prediction'] = df1['Prediction'].replace(to_replace =\"3\", \n",
        "                 value =\"misc\") "
      ],
      "execution_count": 0,
      "outputs": []
    },
    {
      "cell_type": "code",
      "metadata": {
        "id": "kFilkB5YPpbJ",
        "colab_type": "code",
        "colab": {
          "base_uri": "https://localhost:8080/",
          "height": 677
        },
        "outputId": "7b8188a0-b1b1-4ba3-ac3b-9bad077a7a9f"
      },
      "source": [
        "df1.head(20)"
      ],
      "execution_count": 453,
      "outputs": [
        {
          "output_type": "execute_result",
          "data": {
            "text/html": [
              "<div>\n",
              "<style scoped>\n",
              "    .dataframe tbody tr th:only-of-type {\n",
              "        vertical-align: middle;\n",
              "    }\n",
              "\n",
              "    .dataframe tbody tr th {\n",
              "        vertical-align: top;\n",
              "    }\n",
              "\n",
              "    .dataframe thead th {\n",
              "        text-align: right;\n",
              "    }\n",
              "</style>\n",
              "<table border=\"1\" class=\"dataframe\">\n",
              "  <thead>\n",
              "    <tr style=\"text-align: right;\">\n",
              "      <th></th>\n",
              "      <th>Image</th>\n",
              "      <th>Prediction</th>\n",
              "    </tr>\n",
              "  </thead>\n",
              "  <tbody>\n",
              "    <tr>\n",
              "      <th>0</th>\n",
              "      <td>image6245.jpg</td>\n",
              "      <td>Food</td>\n",
              "    </tr>\n",
              "    <tr>\n",
              "      <th>1</th>\n",
              "      <td>image10409.jpg</td>\n",
              "      <td>Food</td>\n",
              "    </tr>\n",
              "    <tr>\n",
              "      <th>2</th>\n",
              "      <td>image8692.jpg</td>\n",
              "      <td>Food</td>\n",
              "    </tr>\n",
              "    <tr>\n",
              "      <th>3</th>\n",
              "      <td>image10517.jpg</td>\n",
              "      <td>Food</td>\n",
              "    </tr>\n",
              "    <tr>\n",
              "      <th>4</th>\n",
              "      <td>image2580.jpg</td>\n",
              "      <td>Decorationandsignage</td>\n",
              "    </tr>\n",
              "    <tr>\n",
              "      <th>5</th>\n",
              "      <td>image848.jpg</td>\n",
              "      <td>Attire</td>\n",
              "    </tr>\n",
              "    <tr>\n",
              "      <th>6</th>\n",
              "      <td>image1232.jpg</td>\n",
              "      <td>misc</td>\n",
              "    </tr>\n",
              "    <tr>\n",
              "      <th>7</th>\n",
              "      <td>image8386.jpg</td>\n",
              "      <td>misc</td>\n",
              "    </tr>\n",
              "    <tr>\n",
              "      <th>8</th>\n",
              "      <td>image9828.jpg</td>\n",
              "      <td>misc</td>\n",
              "    </tr>\n",
              "    <tr>\n",
              "      <th>9</th>\n",
              "      <td>image9033.jpg</td>\n",
              "      <td>Food</td>\n",
              "    </tr>\n",
              "    <tr>\n",
              "      <th>10</th>\n",
              "      <td>image2857.jpg</td>\n",
              "      <td>misc</td>\n",
              "    </tr>\n",
              "    <tr>\n",
              "      <th>11</th>\n",
              "      <td>image7838.jpg</td>\n",
              "      <td>Attire</td>\n",
              "    </tr>\n",
              "    <tr>\n",
              "      <th>12</th>\n",
              "      <td>image6337.jpg</td>\n",
              "      <td>Food</td>\n",
              "    </tr>\n",
              "    <tr>\n",
              "      <th>13</th>\n",
              "      <td>image3608.jpg</td>\n",
              "      <td>misc</td>\n",
              "    </tr>\n",
              "    <tr>\n",
              "      <th>14</th>\n",
              "      <td>image9190.jpg</td>\n",
              "      <td>Food</td>\n",
              "    </tr>\n",
              "    <tr>\n",
              "      <th>15</th>\n",
              "      <td>image8586.jpg</td>\n",
              "      <td>Food</td>\n",
              "    </tr>\n",
              "    <tr>\n",
              "      <th>16</th>\n",
              "      <td>image8140.jpg</td>\n",
              "      <td>Attire</td>\n",
              "    </tr>\n",
              "    <tr>\n",
              "      <th>17</th>\n",
              "      <td>image8208.jpg</td>\n",
              "      <td>Food</td>\n",
              "    </tr>\n",
              "    <tr>\n",
              "      <th>18</th>\n",
              "      <td>image1052.jpg</td>\n",
              "      <td>misc</td>\n",
              "    </tr>\n",
              "    <tr>\n",
              "      <th>19</th>\n",
              "      <td>image3926.jpg</td>\n",
              "      <td>Attire</td>\n",
              "    </tr>\n",
              "  </tbody>\n",
              "</table>\n",
              "</div>"
            ],
            "text/plain": [
              "             Image            Prediction\n",
              "0    image6245.jpg                  Food\n",
              "1   image10409.jpg                  Food\n",
              "2    image8692.jpg                  Food\n",
              "3   image10517.jpg                  Food\n",
              "4    image2580.jpg  Decorationandsignage\n",
              "5     image848.jpg                Attire\n",
              "6    image1232.jpg                  misc\n",
              "7    image8386.jpg                  misc\n",
              "8    image9828.jpg                  misc\n",
              "9    image9033.jpg                  Food\n",
              "10   image2857.jpg                  misc\n",
              "11   image7838.jpg                Attire\n",
              "12   image6337.jpg                  Food\n",
              "13   image3608.jpg                  misc\n",
              "14   image9190.jpg                  Food\n",
              "15   image8586.jpg                  Food\n",
              "16   image8140.jpg                Attire\n",
              "17   image8208.jpg                  Food\n",
              "18   image1052.jpg                  misc\n",
              "19   image3926.jpg                Attire"
            ]
          },
          "metadata": {
            "tags": []
          },
          "execution_count": 453
        }
      ]
    },
    {
      "cell_type": "code",
      "metadata": {
        "id": "e-rhgGCJRBt_",
        "colab_type": "code",
        "colab": {}
      },
      "source": [
        ""
      ],
      "execution_count": 0,
      "outputs": []
    }
  ]
}